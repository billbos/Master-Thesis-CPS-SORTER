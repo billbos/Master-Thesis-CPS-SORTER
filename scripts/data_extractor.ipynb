{
 "cells": [
  {
   "cell_type": "code",
   "execution_count": 1,
   "metadata": {},
   "outputs": [],
   "source": [
    "import pandas as pd\n",
    "import numpy as np"
   ]
  },
  {
   "cell_type": "code",
   "execution_count": 2,
   "metadata": {},
   "outputs": [],
   "source": [
    "def min_max_normalize(dataset):\n",
    "    dataNorm=((dataset-dataset.min())/(dataset.max()-dataset.min()))*20\n",
    "    dataNorm[\"safety\"]=dataset[\"safety\"]\n",
    "    return dataNorm\n",
    "\n",
    "label_map = {\n",
    "    'unsafe': 0,\n",
    "    'safe': 1\n",
    "}\n",
    "reverse_label_map = {\n",
    "    0: 'unsafe',\n",
    "    1: 'safe'\n",
    "}\n"
   ]
  },
  {
   "cell_type": "code",
   "execution_count": 3,
   "metadata": {},
   "outputs": [],
   "source": [
    "percentage_for_training_set = 0.8\n",
    "file_name = 'simple_oob_category_data'"
   ]
  },
  {
   "cell_type": "code",
   "execution_count": 4,
   "metadata": {},
   "outputs": [
    {
     "output_type": "execute_result",
     "data": {
      "text/plain": "        distance  road_distance  num_l_turns  num_r_turns  num_straights  \\\n0    1106.701205    2475.408439            6            7              4   \n1    1387.802029    2391.405723            6            9              4   \n2    1144.008326    2161.955310            5            7              3   \n3     759.948700    1097.705940            5            6              1   \n4    1011.739356    1536.036449            5            6              3   \n..           ...            ...          ...          ...            ...   \n242  1245.387028    1491.281436            8            8              4   \n243  1270.311763    1817.821278            8            6              1   \n244  1090.886550    1732.440375            8            8              2   \n245  1010.295227    1762.344915            7            7              3   \n246  1037.539603    1335.281865            6            7              3   \n\n     median_angle  total_angle  mean_angle  std_angle  max_angle  min_angle  \\\n0            60.0          825   48.529412  39.696077        120          0   \n1            60.0          915   48.157895  37.878286        120          0   \n2            45.0          750   50.000000  38.987177        120          0   \n3            45.0          600   50.000000  34.820971        105          0   \n4            30.0          585   41.785714  35.486775        105          0   \n..            ...          ...         ...        ...        ...        ...   \n242          60.0         1005   50.250000  37.731784        105          0   \n243          45.0          795   53.000000  36.276714        120          0   \n244          60.0         1080   60.000000  36.742346        105          0   \n245          60.0          915   53.823529  36.401738        120          0   \n246          37.5          645   40.312500  31.695265        105          0   \n\n     median_pivot_off  mean_pivot_off  std_pivot_off  max_pivot_off  \\\n0                22.0       20.058824      16.354422             47   \n1                17.0       19.210526      16.800937             47   \n2                22.0       22.600000      17.168964             47   \n3                17.0       19.750000      15.674422             47   \n4                17.0       21.214286      17.151337             47   \n..                ...             ...            ...            ...   \n242              17.0       17.600000      13.690873             42   \n243              22.0       24.533333      14.916955             47   \n244              17.0       20.666667      15.874508             47   \n245              22.0       21.941176      15.003806             42   \n246              27.0       25.375000      15.948648             47   \n\n     min_pivot_off  safety  \n0                0       1  \n1                0       1  \n2                0       1  \n3                0       1  \n4                0       0  \n..             ...     ...  \n242              0       0  \n243              0       1  \n244              0       1  \n245              0       1  \n246              0       1  \n\n[247 rows x 17 columns]",
      "text/html": "<div>\n<style scoped>\n    .dataframe tbody tr th:only-of-type {\n        vertical-align: middle;\n    }\n\n    .dataframe tbody tr th {\n        vertical-align: top;\n    }\n\n    .dataframe thead th {\n        text-align: right;\n    }\n</style>\n<table border=\"1\" class=\"dataframe\">\n  <thead>\n    <tr style=\"text-align: right;\">\n      <th></th>\n      <th>distance</th>\n      <th>road_distance</th>\n      <th>num_l_turns</th>\n      <th>num_r_turns</th>\n      <th>num_straights</th>\n      <th>median_angle</th>\n      <th>total_angle</th>\n      <th>mean_angle</th>\n      <th>std_angle</th>\n      <th>max_angle</th>\n      <th>min_angle</th>\n      <th>median_pivot_off</th>\n      <th>mean_pivot_off</th>\n      <th>std_pivot_off</th>\n      <th>max_pivot_off</th>\n      <th>min_pivot_off</th>\n      <th>safety</th>\n    </tr>\n  </thead>\n  <tbody>\n    <tr>\n      <th>0</th>\n      <td>1106.701205</td>\n      <td>2475.408439</td>\n      <td>6</td>\n      <td>7</td>\n      <td>4</td>\n      <td>60.0</td>\n      <td>825</td>\n      <td>48.529412</td>\n      <td>39.696077</td>\n      <td>120</td>\n      <td>0</td>\n      <td>22.0</td>\n      <td>20.058824</td>\n      <td>16.354422</td>\n      <td>47</td>\n      <td>0</td>\n      <td>1</td>\n    </tr>\n    <tr>\n      <th>1</th>\n      <td>1387.802029</td>\n      <td>2391.405723</td>\n      <td>6</td>\n      <td>9</td>\n      <td>4</td>\n      <td>60.0</td>\n      <td>915</td>\n      <td>48.157895</td>\n      <td>37.878286</td>\n      <td>120</td>\n      <td>0</td>\n      <td>17.0</td>\n      <td>19.210526</td>\n      <td>16.800937</td>\n      <td>47</td>\n      <td>0</td>\n      <td>1</td>\n    </tr>\n    <tr>\n      <th>2</th>\n      <td>1144.008326</td>\n      <td>2161.955310</td>\n      <td>5</td>\n      <td>7</td>\n      <td>3</td>\n      <td>45.0</td>\n      <td>750</td>\n      <td>50.000000</td>\n      <td>38.987177</td>\n      <td>120</td>\n      <td>0</td>\n      <td>22.0</td>\n      <td>22.600000</td>\n      <td>17.168964</td>\n      <td>47</td>\n      <td>0</td>\n      <td>1</td>\n    </tr>\n    <tr>\n      <th>3</th>\n      <td>759.948700</td>\n      <td>1097.705940</td>\n      <td>5</td>\n      <td>6</td>\n      <td>1</td>\n      <td>45.0</td>\n      <td>600</td>\n      <td>50.000000</td>\n      <td>34.820971</td>\n      <td>105</td>\n      <td>0</td>\n      <td>17.0</td>\n      <td>19.750000</td>\n      <td>15.674422</td>\n      <td>47</td>\n      <td>0</td>\n      <td>1</td>\n    </tr>\n    <tr>\n      <th>4</th>\n      <td>1011.739356</td>\n      <td>1536.036449</td>\n      <td>5</td>\n      <td>6</td>\n      <td>3</td>\n      <td>30.0</td>\n      <td>585</td>\n      <td>41.785714</td>\n      <td>35.486775</td>\n      <td>105</td>\n      <td>0</td>\n      <td>17.0</td>\n      <td>21.214286</td>\n      <td>17.151337</td>\n      <td>47</td>\n      <td>0</td>\n      <td>0</td>\n    </tr>\n    <tr>\n      <th>...</th>\n      <td>...</td>\n      <td>...</td>\n      <td>...</td>\n      <td>...</td>\n      <td>...</td>\n      <td>...</td>\n      <td>...</td>\n      <td>...</td>\n      <td>...</td>\n      <td>...</td>\n      <td>...</td>\n      <td>...</td>\n      <td>...</td>\n      <td>...</td>\n      <td>...</td>\n      <td>...</td>\n      <td>...</td>\n    </tr>\n    <tr>\n      <th>242</th>\n      <td>1245.387028</td>\n      <td>1491.281436</td>\n      <td>8</td>\n      <td>8</td>\n      <td>4</td>\n      <td>60.0</td>\n      <td>1005</td>\n      <td>50.250000</td>\n      <td>37.731784</td>\n      <td>105</td>\n      <td>0</td>\n      <td>17.0</td>\n      <td>17.600000</td>\n      <td>13.690873</td>\n      <td>42</td>\n      <td>0</td>\n      <td>0</td>\n    </tr>\n    <tr>\n      <th>243</th>\n      <td>1270.311763</td>\n      <td>1817.821278</td>\n      <td>8</td>\n      <td>6</td>\n      <td>1</td>\n      <td>45.0</td>\n      <td>795</td>\n      <td>53.000000</td>\n      <td>36.276714</td>\n      <td>120</td>\n      <td>0</td>\n      <td>22.0</td>\n      <td>24.533333</td>\n      <td>14.916955</td>\n      <td>47</td>\n      <td>0</td>\n      <td>1</td>\n    </tr>\n    <tr>\n      <th>244</th>\n      <td>1090.886550</td>\n      <td>1732.440375</td>\n      <td>8</td>\n      <td>8</td>\n      <td>2</td>\n      <td>60.0</td>\n      <td>1080</td>\n      <td>60.000000</td>\n      <td>36.742346</td>\n      <td>105</td>\n      <td>0</td>\n      <td>17.0</td>\n      <td>20.666667</td>\n      <td>15.874508</td>\n      <td>47</td>\n      <td>0</td>\n      <td>1</td>\n    </tr>\n    <tr>\n      <th>245</th>\n      <td>1010.295227</td>\n      <td>1762.344915</td>\n      <td>7</td>\n      <td>7</td>\n      <td>3</td>\n      <td>60.0</td>\n      <td>915</td>\n      <td>53.823529</td>\n      <td>36.401738</td>\n      <td>120</td>\n      <td>0</td>\n      <td>22.0</td>\n      <td>21.941176</td>\n      <td>15.003806</td>\n      <td>42</td>\n      <td>0</td>\n      <td>1</td>\n    </tr>\n    <tr>\n      <th>246</th>\n      <td>1037.539603</td>\n      <td>1335.281865</td>\n      <td>6</td>\n      <td>7</td>\n      <td>3</td>\n      <td>37.5</td>\n      <td>645</td>\n      <td>40.312500</td>\n      <td>31.695265</td>\n      <td>105</td>\n      <td>0</td>\n      <td>27.0</td>\n      <td>25.375000</td>\n      <td>15.948648</td>\n      <td>47</td>\n      <td>0</td>\n      <td>1</td>\n    </tr>\n  </tbody>\n</table>\n<p>247 rows × 17 columns</p>\n</div>"
     },
     "metadata": {},
     "execution_count": 4
    }
   ],
   "source": [
    "df = pd.read_csv('{}.csv'.format(file_name))\n",
    "df['safety'] = df['safety'].map(label_map)\n",
    "df"
   ]
  },
  {
   "cell_type": "code",
   "execution_count": 5,
   "metadata": {},
   "outputs": [],
   "source": [
    "is_safe = df['safety'] == 1\n",
    "not_safe = df['safety'] == 0"
   ]
  },
  {
   "cell_type": "code",
   "execution_count": 6,
   "metadata": {},
   "outputs": [],
   "source": [
    "df_safe = df[is_safe]\n",
    "df_not_safe = df[not_safe]\n",
    "num_not_safe = int(len(df_not_safe) * percentage_for_training_set)\n",
    ""
   ]
  },
  {
   "cell_type": "code",
   "execution_count": 7,
   "metadata": {},
   "outputs": [],
   "source": [
    "\n",
    "sample_safe = df_safe.sample(n=num_not_safe, random_state=1)\n",
    "sample_unsafe = df_not_safe.sample(n=num_not_safe, random_state=1)\n",
    ""
   ]
  },
  {
   "cell_type": "code",
   "execution_count": 8,
   "metadata": {},
   "outputs": [],
   "source": [
    "training_set = pd.concat([sample_safe, sample_unsafe])\n",
    "test_set = df.drop(training_set.index)\n",
    "\n",
    "training_set = min_max_normalize(training_set)\n",
    "test_set = min_max_normalize(test_set)\n",
    "\n",
    "training_set['safety'] = training_set['safety'].map(reverse_label_map).astype('category')\n",
    "test_set['safety'] = test_set['safety'].map(reverse_label_map).astype('category')\n",
    "\n",
    "training_set.to_csv('{}_{}_training_set.csv'.format(percentage_for_training_set, file_name), index=False)\n",
    "test_set.to_csv('{}_{}_test_set.csv'.format(percentage_for_training_set, file_name), index=False)\n",
    "\n"
   ]
  },
  {
   "cell_type": "code",
   "execution_count": null,
   "metadata": {},
   "outputs": [],
   "source": []
  },
  {
   "cell_type": "code",
   "execution_count": null,
   "metadata": {},
   "outputs": [],
   "source": []
  }
 ],
 "metadata": {
  "language_info": {
   "name": "python",
   "codemirror_mode": {
    "name": "ipython",
    "version": 3
   },
   "version": "3.7.0-final"
  },
  "orig_nbformat": 2,
  "file_extension": ".py",
  "mimetype": "text/x-python",
  "name": "python",
  "npconvert_exporter": "python",
  "pygments_lexer": "ipython3",
  "version": 3,
  "kernelspec": {
   "name": "python37064bitvenvvenv39d31e0329b741ce99ebdd5ffc83aecd",
   "display_name": "Python 3.7.0 64-bit ('venv': venv)"
  }
 },
 "nbformat": 4,
 "nbformat_minor": 2
}